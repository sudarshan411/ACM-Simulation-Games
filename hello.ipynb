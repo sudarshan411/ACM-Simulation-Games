{
 "cells": [
  {
   "cell_type": "code",
   "execution_count": 5,
   "metadata": {},
   "outputs": [
    {
     "data": {
      "image/png": "[encoded data removed]",
      "text/plain": [
       "<Figure size 432x288 with 1 Axes>"
      ]
     },
     "metadata": {
      "needs_background": "light"
     },
     "output_type": "display_data"
    }
   ],
   "source": [
    "a = 'hello'\n",
    "a\n",
    "import numpy as np \n",
    "b = np.zeros((10,10))\n",
    "b\n",
    "x = np.random.randint(3)\n",
    "x\n",
    "b.ndim\n",
    "import matplotlib.pyplot as plt \n",
    "plt.plot([-4,-3,-2,-1,0,1,2,3,4],[16,9,4,1,0,1,4,9,16])\n",
    "plt.title(\"parabola\")\n",
    "plt.xlabel('x parameter') ; plt.ylabel('y parameter')\n",
    "plt.show()"
   ]
  },
  {
   "cell_type": "code",
   "execution_count": 3,
   "metadata": {},
   "outputs": [
    {
     "data": {
      "text/plain": [
       "array([[0.        , 0.16666667, 0.16666667, ..., 0.        , 0.        ,\n",
       "        0.        ],\n",
       "       [0.        , 0.        , 0.16666667, ..., 0.        , 0.        ,\n",
       "        0.        ],\n",
       "       [0.        , 0.        , 0.        , ..., 0.        , 0.        ,\n",
       "        0.        ],\n",
       "       ...,\n",
       "       [0.        , 0.        , 0.        , ..., 0.        , 0.16666667,\n",
       "        0.16666667],\n",
       "       [0.        , 0.        , 0.        , ..., 0.        , 0.        ,\n",
       "        0.16666667],\n",
       "       [0.        , 0.        , 0.        , ..., 0.        , 0.        ,\n",
       "        0.        ]])"
      ]
     },
     "execution_count": 3,
     "metadata": {},
     "output_type": "execute_result"
    }
   ],
   "source": [
    "import numpy as np\n",
    "t = np.zeros((101,101),dtype=float)\n",
    "for i in range(1,101):\n",
    "    t[i-1,i:i+6] = 1.0/6\n",
    "t"
   ]
  },
  {
   "cell_type": "code",
   "execution_count": null,
   "metadata": {},
   "outputs": [],
   "source": [
    "\n",
    "import numpy as np \n",
    "import matplotlib.pyplot as plt \n",
    "import random\n",
    "ladders ={ 3:19 , 15:37 , 22:42 , 25:64 , 41:73 , 53:74, 63:86 , 76:91 , 84:98}\n",
    "snakes = {11:7, 18:13 , 28:12, 36:34 , 77:16 , 47:26 , 83:39 , 92:75 , 99:2}\n",
    "snke_and_ladder = {**snakes,**ladders}  # merging two dictionaries \n",
    "snl = list(snke_and_ladder.items()) #converting a dictionary to list of tuples\n",
    "snl\n",
    "\n",
    "def create_transitionMatrix():\n",
    "    t = np.zeros((101,101),dtype=float)\n",
    "    for i in range(1,101):\n",
    "        t[i-1,i:i+6] = 1.0/6\n",
    "    return t\n",
    "\n",
    "T = create_transitionMatrix()\n",
    "\n",
    "snl = list(snke_and_ladder.items()) #converting a dictionary to list of tuples\n",
    "for (i1,i2) in snl:\n",
    "    iw = np.where(T[:,i1]>0)\n",
    "    T[:,i1] = 0\n",
    "    T[iw,i2] += 1/6\n",
    "\n",
    "T"
   ]
  },
  {
   "cell_type": "code",
   "execution_count": 8,
   "metadata": {},
   "outputs": [
    {
     "name": "stdout",
     "output_type": "stream",
     "text": [
      "6\n"
     ]
    }
   ],
   "source": [
    "def sumOfFirstNnaturalNumbers(n):\n",
    "    if n == 0:\n",
    "        return 0\n",
    "    else:\n",
    "        return (n+sumOfFirstNnaturalNumbers(n-1))\n",
    "\n",
    "num = int(input(\"Enter an integer : \")) \n",
    "sum = sumOfFirstNnaturalNumbers(num)\n",
    "print(sum)"
   ]
  }
 ],
 "metadata": {
  "interpreter": {
   "hash": "b89b5cfaba6639976dc87ff2fec6d58faec662063367e2c229c520fe71072417"
  },
  "kernelspec": {
   "display_name": "Python 3.10.0 64-bit",
   "language": "python",
   "name": "python3"
  },
  "language_info": {
   "codemirror_mode": {
    "name": "ipython",
    "version": 3
   },
   "file_extension": ".py",
   "mimetype": "text/x-python",
   "name": "python",
   "nbconvert_exporter": "python",
   "pygments_lexer": "ipython3",
   "version": "3.10.0"
  },
  "orig_nbformat": 4
 },
 "nbformat": 4,
 "nbformat_minor": 2
}
